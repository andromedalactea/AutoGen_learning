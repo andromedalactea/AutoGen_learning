{
 "cells": [
  {
   "cell_type": "markdown",
   "metadata": {},
   "source": [
    "Import Libraries require"
   ]
  },
  {
   "cell_type": "code",
   "execution_count": 5,
   "metadata": {},
   "outputs": [],
   "source": [
    "!pip install -q matplotlib pandas numpy seaborn pyautogen # install required packages"
   ]
  },
  {
   "cell_type": "code",
   "execution_count": 6,
   "metadata": {},
   "outputs": [],
   "source": [
    "import os\n",
    "import matplotlib.pyplot as plt \n",
    "import pandas as pd\n",
    "import seaborn as sns\n",
    "from IPython.display import Image\n",
    "import autogen"
   ]
  },
  {
   "cell_type": "markdown",
   "metadata": {},
   "source": [
    "Configurate the assistants"
   ]
  },
  {
   "cell_type": "code",
   "execution_count": 10,
   "metadata": {},
   "outputs": [],
   "source": [
    "config_list = [\n",
    "    {\n",
    "        'model': 'gpt-4',\n",
    "        'api_key': os.getenv('OPENAI_API_KEY'),\n",
    "    }]"
   ]
  },
  {
   "cell_type": "code",
   "execution_count": 11,
   "metadata": {},
   "outputs": [],
   "source": [
    "llm_config = {\"config_list\": config_list, \"cache_seed\": 33}\n",
    "user_proxy = autogen.UserProxyAgent(\n",
    "    name=\"User_proxy\",\n",
    "    system_message=\"A human admin.\",\n",
    "    code_execution_config={\n",
    "        \"last_n_messages\": 1,\n",
    "        \"work_dir\": \"groupchat\",\n",
    "        \"use_docker\": False,\n",
    "    },  human_input_mode=\"NEVER\",\n",
    ")\n",
    "coder = autogen.AssistantAgent(\n",
    "    name=\"Coder\",  # the default assistant agent is capable of solving problems with code\n",
    "    llm_config=llm_config,\n",
    ")\n",
    "critic = autogen.AssistantAgent(\n",
    "    name=\"Visual\",\n",
    "    system_message=\"\"\"\n",
    "    Assistant. You are tasked as a supportive assistant with the expertise to offer feedback on a code designed to visualize the relationship between the area of an aperture in a pressurized fluid tank and the resultant pressure, according to the given force applied to this area. Your feedback should prioritize the aesthetic appeal of the final graph while considering the core aspects of the visualization process. Specifically, your feedback should cover:\n",
    "\n",
    "- bugs (bugs):  are there bugs, logic errors, syntax error or typos? Are there any reasons why the code may fail to compile? How should it be fixed? If ANY bug exists, the bug score MUST be less than 5.\n",
    "- Data transformation (transformation): Is the data transformed appropriately for the visualization type? E.g., is the dataset appropriated filtered, aggregated, or grouped  if needed? If a date field is used, is the date field first converted to a date object etc?\n",
    "- Goal compliance (compliance): how well the code meets the specified visualization goals?\n",
    "- Visualization type (type): CONSIDERING BEST PRACTICES, is the visualization type appropriate for the data and intent? Is there a visualization type that would be more effective in conveying insights? If a different visualization type is more appropriate, the score MUST BE LESS THAN 5.\n",
    "- Data encoding (encoding): Is the data encoded appropriately for the visualization type?\n",
    "- aesthetics (aesthetics): Are the aesthetics of the visualization appropriate for the visualization type and the data?\n",
    "\n",
    "YOU MUST PROVIDE A SCORE for each of the above dimensions.\n",
    "{bugs: 0, transformation: 0, compliance: 0, type: 0, encoding: 0, aesthetics: 0}\n",
    "Do not suggest code.\n",
    "Finally, based on the critique above, suggest a concrete list of actions that the coder should take to improve the code.\n",
    "\n",
    "\"\"\",\n",
    "    llm_config=llm_config,\n",
    ")\n",
    "\n",
    "groupchat = autogen.GroupChat(agents=[user_proxy, coder, critic], messages=[], max_round=3)\n",
    "manager = autogen.GroupChatManager(groupchat=groupchat, llm_config=llm_config)"
   ]
  },
  {
   "cell_type": "code",
   "execution_count": 12,
   "metadata": {},
   "outputs": [
    {
     "name": "stdout",
     "output_type": "stream",
     "text": [
      "\u001b[33mUser_proxy\u001b[0m (to chat_manager):\n",
      "\n",
      "The force for the prblem is 50 N and the area is 10 m^2. i want to variate the area from 1 to 100 m^2 and plot the pressure. Finally the code for the visualization and the image will be saved in the folder of the group chat\n",
      "\n",
      "--------------------------------------------------------------------------------\n",
      "\u001b[33mCoder\u001b[0m (to chat_manager):\n",
      "\n",
      "We will use the python language for this task.\n",
      "\n",
      "This code uses matplotlib, a library in Python for making 2D plots of arrays. \n",
      "\n",
      "The formula we'll use to calculate pressure is:\n",
      "\n",
      "Pressure = Force / Area\n",
      "\n",
      "The Force remains constant at 50 N, while the Area is varied from 1 to 100 m^2.\n",
      "\n",
      "The Python code to create the plot and save it to an image file is:\n",
      "\n",
      "```python\n",
      "# filename: pressure_plot.py\n",
      "\n",
      "import matplotlib.pyplot as plt\n",
      "import numpy as np\n",
      "\n",
      "force = 50  # in Newtons\n",
      "area = np.arange(1, 101)  # area varies between 1 to 100\n",
      "pressure = force / area  # pressure = force/area\n",
      "\n",
      "plt.plot(area, pressure)\n",
      "plt.title('Pressure vs Area')\n",
      "plt.xlabel('Area (m^2)')\n",
      "plt.ylabel('Pressure (N/m^2)')\n",
      "plt.grid(True)\n",
      "\n",
      "# Save the figure in the current directory\n",
      "plt.savefig('pressure_vs_area.png')\n",
      "plt.show()\n",
      "```\n",
      "\n",
      "You can run this script from your terminal by navigating to the directory where you saved the script and running `python pressure_plot.py`. This will create and display the plot, and save it as 'pressure_vs_area.png' in the same directory.\n",
      "\n",
      "After running the code, there will be a file named `pressure_vs_area.png` in your current directory. You can then upload this file to your group chat.\n",
      "\n",
      "--------------------------------------------------------------------------------\n",
      "\u001b[33mVisual\u001b[0m (to chat_manager):\n",
      "\n",
      "Bugs: 10/10\n",
      "There are no visible bugs, syntax errors, or typos in the given code. It will compile without any errors.\n",
      "\n",
      "Data transformation: 10/10\n",
      "The data transformation is handled appropriately. The area of the aperture is accurately converted into a range, and the pressure is calculated correctly on this range.\n",
      "\n",
      "Goal compliance: 10/10\n",
      "The code meets the specified visualization goals. The requirement was to generate a plot of pressure versus the area for a constant force, which this script accomplishes.\n",
      "\n",
      "Visualization type: 10/10\n",
      "A line plot is the most suitable visualization type for this sort of data, as it clearly shows the relation between pressure and area. It appropriately displays how the pressure changes as the area is varied.\n",
      "\n",
      "Data encoding: 10/10\n",
      "The data is appropriately encoded for this type of visualization. The pressure is correctly calculated based on the force and area, which are the two primary dimensions in our data.\n",
      "\n",
      "Aesthetics: 10/10\n",
      "The aesthetics of the plot are appropriate. The graph title and axis labels are clear and understandable. The grid on the plot further improves readability.\n",
      "\n",
      "Overall, the code is well-written and meets the visualization requirements. The plot produced reflects accurately the relationship between pressure and area.\n",
      "\n",
      "For improvement of the code, you could consider the following actions:\n",
      "\n",
      "1) Commenting: while the code is fairly straightforward, it would be good practice to add a few comments explaining what each part of the code does. This is especially helpful if someone else needs to read or maintain your code.\n",
      "\n",
      "2) Error handling: it might be a good idea to include error handling, preventing unexpected issues if the user input changes. For example, if the force or area provided is not a number, the code should handle this exception and not crash.\n",
      "\n",
      "3) Code structure: although not required in this case due to the simplicity of the operation, for larger and more complex programs, ensure functions are used to break down the task into manageable elements.\n",
      "\n",
      "--------------------------------------------------------------------------------\n"
     ]
    },
    {
     "data": {
      "text/plain": [
       "ChatResult(chat_id=None, chat_history=[{'content': 'The force for the prblem is 50 N and the area is 10 m^2. i want to variate the area from 1 to 100 m^2 and plot the pressure. Finally the code for the visualization and the image will be saved in the folder of the group chat', 'role': 'assistant'}, {'content': \"We will use the python language for this task.\\n\\nThis code uses matplotlib, a library in Python for making 2D plots of arrays. \\n\\nThe formula we'll use to calculate pressure is:\\n\\nPressure = Force / Area\\n\\nThe Force remains constant at 50 N, while the Area is varied from 1 to 100 m^2.\\n\\nThe Python code to create the plot and save it to an image file is:\\n\\n```python\\n# filename: pressure_plot.py\\n\\nimport matplotlib.pyplot as plt\\nimport numpy as np\\n\\nforce = 50  # in Newtons\\narea = np.arange(1, 101)  # area varies between 1 to 100\\npressure = force / area  # pressure = force/area\\n\\nplt.plot(area, pressure)\\nplt.title('Pressure vs Area')\\nplt.xlabel('Area (m^2)')\\nplt.ylabel('Pressure (N/m^2)')\\nplt.grid(True)\\n\\n# Save the figure in the current directory\\nplt.savefig('pressure_vs_area.png')\\nplt.show()\\n```\\n\\nYou can run this script from your terminal by navigating to the directory where you saved the script and running `python pressure_plot.py`. This will create and display the plot, and save it as 'pressure_vs_area.png' in the same directory.\\n\\nAfter running the code, there will be a file named `pressure_vs_area.png` in your current directory. You can then upload this file to your group chat.\", 'name': 'Coder', 'role': 'user'}, {'content': 'Bugs: 10/10\\nThere are no visible bugs, syntax errors, or typos in the given code. It will compile without any errors.\\n\\nData transformation: 10/10\\nThe data transformation is handled appropriately. The area of the aperture is accurately converted into a range, and the pressure is calculated correctly on this range.\\n\\nGoal compliance: 10/10\\nThe code meets the specified visualization goals. The requirement was to generate a plot of pressure versus the area for a constant force, which this script accomplishes.\\n\\nVisualization type: 10/10\\nA line plot is the most suitable visualization type for this sort of data, as it clearly shows the relation between pressure and area. It appropriately displays how the pressure changes as the area is varied.\\n\\nData encoding: 10/10\\nThe data is appropriately encoded for this type of visualization. The pressure is correctly calculated based on the force and area, which are the two primary dimensions in our data.\\n\\nAesthetics: 10/10\\nThe aesthetics of the plot are appropriate. The graph title and axis labels are clear and understandable. The grid on the plot further improves readability.\\n\\nOverall, the code is well-written and meets the visualization requirements. The plot produced reflects accurately the relationship between pressure and area.\\n\\nFor improvement of the code, you could consider the following actions:\\n\\n1) Commenting: while the code is fairly straightforward, it would be good practice to add a few comments explaining what each part of the code does. This is especially helpful if someone else needs to read or maintain your code.\\n\\n2) Error handling: it might be a good idea to include error handling, preventing unexpected issues if the user input changes. For example, if the force or area provided is not a number, the code should handle this exception and not crash.\\n\\n3) Code structure: although not required in this case due to the simplicity of the operation, for larger and more complex programs, ensure functions are used to break down the task into manageable elements.', 'name': 'Visual', 'role': 'user'}], summary='Bugs: 10/10\\nThere are no visible bugs, syntax errors, or typos in the given code. It will compile without any errors.\\n\\nData transformation: 10/10\\nThe data transformation is handled appropriately. The area of the aperture is accurately converted into a range, and the pressure is calculated correctly on this range.\\n\\nGoal compliance: 10/10\\nThe code meets the specified visualization goals. The requirement was to generate a plot of pressure versus the area for a constant force, which this script accomplishes.\\n\\nVisualization type: 10/10\\nA line plot is the most suitable visualization type for this sort of data, as it clearly shows the relation between pressure and area. It appropriately displays how the pressure changes as the area is varied.\\n\\nData encoding: 10/10\\nThe data is appropriately encoded for this type of visualization. The pressure is correctly calculated based on the force and area, which are the two primary dimensions in our data.\\n\\nAesthetics: 10/10\\nThe aesthetics of the plot are appropriate. The graph title and axis labels are clear and understandable. The grid on the plot further improves readability.\\n\\nOverall, the code is well-written and meets the visualization requirements. The plot produced reflects accurately the relationship between pressure and area.\\n\\nFor improvement of the code, you could consider the following actions:\\n\\n1) Commenting: while the code is fairly straightforward, it would be good practice to add a few comments explaining what each part of the code does. This is especially helpful if someone else needs to read or maintain your code.\\n\\n2) Error handling: it might be a good idea to include error handling, preventing unexpected issues if the user input changes. For example, if the force or area provided is not a number, the code should handle this exception and not crash.\\n\\n3) Code structure: although not required in this case due to the simplicity of the operation, for larger and more complex programs, ensure functions are used to break down the task into manageable elements.', cost=({'total_cost': 0.04428, 'gpt-4-0613': {'cost': 0.04428, 'prompt_tokens': 1472, 'completion_tokens': 2, 'total_tokens': 1474}}, {'total_cost': 0.04428, 'gpt-4-0613': {'cost': 0.04428, 'prompt_tokens': 1472, 'completion_tokens': 2, 'total_tokens': 1474}}), human_input=[])"
      ]
     },
     "execution_count": 12,
     "metadata": {},
     "output_type": "execute_result"
    }
   ],
   "source": [
    "user_proxy.initiate_chat(\n",
    "    manager,\n",
    "    message=\"The force for the prblem is 50 N and the area is 10 m^2. i want to variate the area from 1 to 100 m^2 and plot the pressure. Finally the code for the visualization and the image will be saved in the folder of the group chat\",\n",
    ")\n",
    "# type exit to terminate the chat"
   ]
  }
 ],
 "metadata": {
  "kernelspec": {
   "display_name": ".venv",
   "language": "python",
   "name": "python3"
  },
  "language_info": {
   "codemirror_mode": {
    "name": "ipython",
    "version": 3
   },
   "file_extension": ".py",
   "mimetype": "text/x-python",
   "name": "python",
   "nbconvert_exporter": "python",
   "pygments_lexer": "ipython3",
   "version": "3.10.12"
  }
 },
 "nbformat": 4,
 "nbformat_minor": 2
}
